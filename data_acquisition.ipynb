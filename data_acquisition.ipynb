{
 "cells": [
  {
   "cell_type": "code",
   "execution_count": 1,
   "metadata": {},
   "outputs": [
    {
     "name": "stdout",
     "output_type": "stream",
     "text": [
      "Collecting pandas\n",
      "  Downloading pandas-2.1.1-cp311-cp311-win_amd64.whl.metadata (18 kB)\n",
      "Collecting numpy>=1.23.2 (from pandas)\n",
      "  Downloading numpy-1.26.1-cp311-cp311-win_amd64.whl.metadata (61 kB)\n",
      "     ---------------------------------------- 0.0/61.2 kB ? eta -:--:--\n",
      "     ------ --------------------------------- 10.2/61.2 kB ? eta -:--:--\n",
      "     -------------------------------------- 61.2/61.2 kB 653.3 kB/s eta 0:00:00\n",
      "Requirement already satisfied: python-dateutil>=2.8.2 in c:\\users\\mibam\\anaconda3\\envs\\dl_homework\\lib\\site-packages (from pandas) (2.8.2)\n",
      "Collecting pytz>=2020.1 (from pandas)\n",
      "  Downloading pytz-2023.3.post1-py2.py3-none-any.whl.metadata (22 kB)\n",
      "Collecting tzdata>=2022.1 (from pandas)\n",
      "  Downloading tzdata-2023.3-py2.py3-none-any.whl (341 kB)\n",
      "     ---------------------------------------- 0.0/341.8 kB ? eta -:--:--\n",
      "     ---------------------- --------------- 204.8/341.8 kB 4.2 MB/s eta 0:00:01\n",
      "     -------------------------------------- 341.8/341.8 kB 4.3 MB/s eta 0:00:00\n",
      "Requirement already satisfied: six>=1.5 in c:\\users\\mibam\\anaconda3\\envs\\dl_homework\\lib\\site-packages (from python-dateutil>=2.8.2->pandas) (1.16.0)\n",
      "Downloading pandas-2.1.1-cp311-cp311-win_amd64.whl (10.6 MB)\n",
      "   ---------------------------------------- 0.0/10.6 MB ? eta -:--:--\n",
      "   --- ------------------------------------ 1.0/10.6 MB 21.8 MB/s eta 0:00:01\n",
      "   ----------- ---------------------------- 2.9/10.6 MB 37.5 MB/s eta 0:00:01\n",
      "   ------------------ --------------------- 4.8/10.6 MB 38.3 MB/s eta 0:00:01\n",
      "   ------------------ --------------------- 4.8/10.6 MB 38.3 MB/s eta 0:00:01\n",
      "   ------------------------ --------------- 6.6/10.6 MB 30.3 MB/s eta 0:00:01\n",
      "   ---------------------------------------  10.6/10.6 MB 43.7 MB/s eta 0:00:01\n",
      "   ---------------------------------------  10.6/10.6 MB 43.7 MB/s eta 0:00:01\n",
      "   ---------------------------------------- 10.6/10.6 MB 32.7 MB/s eta 0:00:00\n",
      "Downloading numpy-1.26.1-cp311-cp311-win_amd64.whl (15.8 MB)\n",
      "   ---------------------------------------- 0.0/15.8 MB ? eta -:--:--\n",
      "   ------ --------------------------------- 2.4/15.8 MB 51.9 MB/s eta 0:00:01\n",
      "   ---------- ----------------------------- 4.2/15.8 MB 44.1 MB/s eta 0:00:01\n",
      "   ------------- -------------------------- 5.5/15.8 MB 39.1 MB/s eta 0:00:01\n",
      "   ----------------- ---------------------- 7.0/15.8 MB 37.2 MB/s eta 0:00:01\n",
      "   ---------------------- ----------------- 9.0/15.8 MB 38.6 MB/s eta 0:00:01\n",
      "   ---------------------------- ----------- 11.2/15.8 MB 38.5 MB/s eta 0:00:01\n",
      "   ---------------------------------- ----- 13.5/15.8 MB 38.5 MB/s eta 0:00:01\n",
      "   ---------------------------------------  15.4/15.8 MB 40.9 MB/s eta 0:00:01\n",
      "   ---------------------------------------  15.8/15.8 MB 46.7 MB/s eta 0:00:01\n",
      "   ---------------------------------------  15.8/15.8 MB 46.7 MB/s eta 0:00:01\n",
      "   ---------------------------------------- 15.8/15.8 MB 29.7 MB/s eta 0:00:00\n",
      "Downloading pytz-2023.3.post1-py2.py3-none-any.whl (502 kB)\n",
      "   ---------------------------------------- 0.0/502.5 kB ? eta -:--:--\n",
      "   --------------------------------------- 502.5/502.5 kB 30.8 MB/s eta 0:00:00\n",
      "Installing collected packages: pytz, tzdata, numpy, pandas\n",
      "Successfully installed numpy-1.26.1 pandas-2.1.1 pytz-2023.3.post1 tzdata-2023.3\n"
     ]
    }
   ],
   "source": [
    "!pip install pandas"
   ]
  },
  {
   "cell_type": "code",
   "execution_count": 2,
   "metadata": {},
   "outputs": [
    {
     "name": "stdout",
     "output_type": "stream",
     "text": [
      "Requirement already satisfied: numpy in c:\\users\\mibam\\anaconda3\\envs\\dl_homework\\lib\\site-packages (1.26.1)\n"
     ]
    }
   ],
   "source": [
    "!pip install numpy"
   ]
  },
  {
   "cell_type": "code",
   "execution_count": 1,
   "metadata": {},
   "outputs": [],
   "source": [
    "!conda install pytorch torchvision torchaudio cpuonly -c pytorch"
   ]
  },
  {
   "cell_type": "code",
   "execution_count": null,
   "metadata": {},
   "outputs": [],
   "source": [
    "!wget https://snap.stanford.edu/data/facebook.tar.gz -0 ./data/facebook.tar.gz"
   ]
  },
  {
   "cell_type": "code",
   "execution_count": null,
   "metadata": {},
   "outputs": [],
   "source": [
    "!wget https://snap.stanford.edu/data/gplus.tar.gz -0 ./data/gplus.tar.gz"
   ]
  },
  {
   "cell_type": "code",
   "execution_count": null,
   "metadata": {},
   "outputs": [],
   "source": [
    "!wget https://snap.stanford.edu/data/twitter.tar.gz -0 ./data/twitter.tar.gz"
   ]
  }
 ],
 "metadata": {
  "kernelspec": {
   "display_name": "dl_homework",
   "language": "python",
   "name": "python3"
  },
  "language_info": {
   "codemirror_mode": {
    "name": "ipython",
    "version": 3
   },
   "file_extension": ".py",
   "mimetype": "text/x-python",
   "name": "python",
   "nbconvert_exporter": "python",
   "pygments_lexer": "ipython3",
   "version": "3.11.5"
  }
 },
 "nbformat": 4,
 "nbformat_minor": 2
}
